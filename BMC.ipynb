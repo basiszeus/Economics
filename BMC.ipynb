{
 "cells": [
  {
   "cell_type": "markdown",
   "id": "7c2fd373",
   "metadata": {},
   "source": [
    "<center><h1 style=\"background-color: #C6F3CD; border-radius: 10px; color: #FFFFFF; padding: 5px;\">\n",
    "BMC\n",
    "</h1><center/>"
   ]
  },
  {
   "cell_type": "markdown",
   "id": "bdfa8b4c",
   "metadata": {},
   "source": [
    "**Link to the article** : \n",
    "https://medium.com/@soulawalid/building-a-business-model-4d9fea7952ab?sk=4e8880a2af844ef36240eee9f277f04a"
   ]
  },
  {
   "cell_type": "code",
   "execution_count": 2,
   "id": "b5628b43",
   "metadata": {},
   "outputs": [
    {
     "name": "stdout",
     "output_type": "stream",
     "text": [
      "Enter Customer Segments: 1\n",
      "Enter Value Propositions: 2,3,4\n",
      "Enter Channels: ,\n",
      "Enter Customer Relationships: \n",
      "Enter Revenue Streams: h\n",
      "Enter Key Resources: g\n",
      "Enter Key Activities: gh\n",
      "Enter Key Partnerships: g\n",
      "Enter Cost Structure: h\n",
      "\n",
      "Business Model Canvas:\n",
      "╒════════════════════════╤═══════════╕\n",
      "│ Component              │ Details   │\n",
      "╞════════════════════════╪═══════════╡\n",
      "│ Customer Segments      │ 1         │\n",
      "├────────────────────────┼───────────┤\n",
      "│ Value Propositions     │ 2,3,4     │\n",
      "├────────────────────────┼───────────┤\n",
      "│ Channels               │ ,         │\n",
      "├────────────────────────┼───────────┤\n",
      "│ Customer Relationships │           │\n",
      "├────────────────────────┼───────────┤\n",
      "│ Revenue Streams        │ h         │\n",
      "├────────────────────────┼───────────┤\n",
      "│ Key Resources          │ g         │\n",
      "├────────────────────────┼───────────┤\n",
      "│ Key Activities         │ gh        │\n",
      "├────────────────────────┼───────────┤\n",
      "│ Key Partnerships       │ g         │\n",
      "├────────────────────────┼───────────┤\n",
      "│ Cost Structure         │ h         │\n",
      "╘════════════════════════╧═══════════╛\n"
     ]
    }
   ],
   "source": [
    "from tabulate import tabulate\n",
    "\n",
    "def get_input(prompt):\n",
    "    return input(prompt)\n",
    "\n",
    "def create_business_model_canvas():\n",
    "    components = [\n",
    "        \"Customer Segments\", \"Value Propositions\", \"Channels\", \n",
    "        \"Customer Relationships\", \"Revenue Streams\", \"Key Resources\", \n",
    "        \"Key Activities\", \"Key Partnerships\", \"Cost Structure\"\n",
    "    ]\n",
    "    \n",
    "    canvas = {component: get_input(f\"Enter {component}: \") for component in components}\n",
    "\n",
    "    # Display the canvas using tabulate for a cleaner view\n",
    "    print(\"\\nBusiness Model Canvas:\")\n",
    "    print(tabulate(canvas.items(), headers=[\"Component\", \"Details\"], tablefmt=\"fancy_grid\"))\n",
    "\n",
    "if __name__ == \"__main__\":\n",
    "    create_business_model_canvas()"
   ]
  },
  {
   "cell_type": "code",
   "execution_count": 4,
   "id": "d53501e0",
   "metadata": {},
   "outputs": [
    {
     "name": "stdout",
     "output_type": "stream",
     "text": [
      "Enter Customer Segments: Individual viewers ranging from 16 to 35 (Including both millennial and Z generation)\n",
      "Enter Value Propositions: Access to a wide range of anime not available in your country in English and also in the original version with :  Exclusives videos from the studio Height quality content from fans of the series including review, conspiracy and cosplays Integration of Open AI GPT for personalized experience\n",
      "Enter Channels: Mobile apps, Websites, Smart TV, Open AI\n",
      "Enter Customer Relationships: Personalized recommendations, Customer support, Events with studios and content creators\n",
      "Enter Revenue Streams: Monthly Subscription Fees : Individual Plan: Access on 1 device, Friends Plan: Access on 2 or more devices, with an additional charge for each extra device, Couple Plan: Access on 2 devices | Free with Ads: Limited to 1 device, with no access to GPT features or exclusive content \n",
      "Enter Key Resources: Content library for the anime, Technology infrastructure, Data analytics\n",
      "Enter Key Activities: Content acquisition, Platform maintenance, Customer support, Events for subscribers\n",
      "Enter Key Partnerships: Content producers, Technology providers like Open AI, Influencers for promotion\n",
      "Enter Cost Structure: Content licensing, Technology infrastructure, Marketing cost\n",
      "\n",
      "Business Model Canvas:\n",
      "╒════════════════════════╤═════════════════════════════════════════════════════════════════════════════════════════════════════════════════════════════════════════════════════════════════════════════════════════════════════════════════════════════════════════════════════════════════════════════════════════════════════╕\n",
      "│ Component              │ Details                                                                                                                                                                                                                                                                                             │\n",
      "╞════════════════════════╪═════════════════════════════════════════════════════════════════════════════════════════════════════════════════════════════════════════════════════════════════════════════════════════════════════════════════════════════════════════════════════════════════════════════════════════════════════╡\n",
      "│ Customer Segments      │ Individual viewers ranging from 16 to 35 (Including both millennial and Z generation)                                                                                                                                                                                                               │\n",
      "├────────────────────────┼─────────────────────────────────────────────────────────────────────────────────────────────────────────────────────────────────────────────────────────────────────────────────────────────────────────────────────────────────────────────────────────────────────────────────────────────────────┤\n",
      "│ Value Propositions     │ Access to a wide range of anime not available in your country in English and also in the original version with :  Exclusives videos from the studio Height quality content from fans of the series including review, conspiracy and cosplays Integration of Open AI GPT for personalized experience │\n",
      "├────────────────────────┼─────────────────────────────────────────────────────────────────────────────────────────────────────────────────────────────────────────────────────────────────────────────────────────────────────────────────────────────────────────────────────────────────────────────────────────────────────┤\n",
      "│ Channels               │ Mobile apps, Websites, Smart TV, Open AI                                                                                                                                                                                                                                                            │\n",
      "├────────────────────────┼─────────────────────────────────────────────────────────────────────────────────────────────────────────────────────────────────────────────────────────────────────────────────────────────────────────────────────────────────────────────────────────────────────────────────────────────────────┤\n",
      "│ Customer Relationships │ Personalized recommendations, Customer support, Events with studios and content creators                                                                                                                                                                                                            │\n",
      "├────────────────────────┼─────────────────────────────────────────────────────────────────────────────────────────────────────────────────────────────────────────────────────────────────────────────────────────────────────────────────────────────────────────────────────────────────────────────────────────────────────┤\n",
      "│ Revenue Streams        │ Monthly Subscription Fees : Individual Plan: Access on 1 device, Friends Plan: Access on 2 or more devices, with an additional charge for each extra device, Couple Plan: Access on 2 devices | Free with Ads: Limited to 1 device, with no access to GPT features or exclusive content             │\n",
      "├────────────────────────┼─────────────────────────────────────────────────────────────────────────────────────────────────────────────────────────────────────────────────────────────────────────────────────────────────────────────────────────────────────────────────────────────────────────────────────────────────────┤\n",
      "│ Key Resources          │ Content library for the anime, Technology infrastructure, Data analytics                                                                                                                                                                                                                            │\n",
      "├────────────────────────┼─────────────────────────────────────────────────────────────────────────────────────────────────────────────────────────────────────────────────────────────────────────────────────────────────────────────────────────────────────────────────────────────────────────────────────────────────────┤\n",
      "│ Key Activities         │ Content acquisition, Platform maintenance, Customer support, Events for subscribers                                                                                                                                                                                                                 │\n",
      "├────────────────────────┼─────────────────────────────────────────────────────────────────────────────────────────────────────────────────────────────────────────────────────────────────────────────────────────────────────────────────────────────────────────────────────────────────────────────────────────────────────┤\n",
      "│ Key Partnerships       │ Content producers, Technology providers like Open AI, Influencers for promotion                                                                                                                                                                                                                     │\n",
      "├────────────────────────┼─────────────────────────────────────────────────────────────────────────────────────────────────────────────────────────────────────────────────────────────────────────────────────────────────────────────────────────────────────────────────────────────────────────────────────────────────────┤\n",
      "│ Cost Structure         │ Content licensing, Technology infrastructure, Marketing cost                                                                                                                                                                                                                                        │\n",
      "╘════════════════════════╧═════════════════════════════════════════════════════════════════════════════════════════════════════════════════════════════════════════════════════════════════════════════════════════════════════════════════════════════════════════════════════════════════════════════════════════════════════╛\n",
      "\n",
      "Business Model Canvas has been exported to 'business_model_canvas.csv'.\n"
     ]
    }
   ],
   "source": [
    "import pandas as pd\n",
    "from tabulate import tabulate\n",
    "\n",
    "def get_input(prompt):\n",
    "    return input(prompt)\n",
    "\n",
    "def create_business_model_canvas():\n",
    "    components = [\n",
    "        \"Customer Segments\", \"Value Propositions\", \"Channels\", \n",
    "        \"Customer Relationships\", \"Revenue Streams\", \"Key Resources\", \n",
    "        \"Key Activities\", \"Key Partnerships\", \"Cost Structure\"\n",
    "    ]\n",
    "    \n",
    "    # Gather input from the user for each component\n",
    "    canvas = {component: get_input(f\"Enter {component}: \") for component in components}\n",
    "\n",
    "    # Convert the canvas dictionary into a DataFrame\n",
    "    df = pd.DataFrame(list(canvas.items()), columns=[\"Component\", \"Details\"])\n",
    "\n",
    "    # Display the canvas using tabulate for a cleaner view\n",
    "    print(\"\\nBusiness Model Canvas:\")\n",
    "    print(tabulate(df, headers=\"keys\", tablefmt=\"fancy_grid\", showindex=False))\n",
    "\n",
    "    # Export the DataFrame to a CSV file\n",
    "    df.to_csv(\"business_model_canvas.csv\", index=False)\n",
    "    print(\"\\nBusiness Model Canvas has been exported to 'business_model_canvas.csv'.\")\n",
    "\n",
    "if __name__ == \"__main__\":\n",
    "    create_business_model_canvas()"
   ]
  }
 ],
 "metadata": {
  "kernelspec": {
   "display_name": "Python 3 (ipykernel)",
   "language": "python",
   "name": "python3"
  },
  "language_info": {
   "codemirror_mode": {
    "name": "ipython",
    "version": 3
   },
   "file_extension": ".py",
   "mimetype": "text/x-python",
   "name": "python",
   "nbconvert_exporter": "python",
   "pygments_lexer": "ipython3",
   "version": "3.11.5"
  }
 },
 "nbformat": 4,
 "nbformat_minor": 5
}
